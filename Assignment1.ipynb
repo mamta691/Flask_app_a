{
 "cells": [
  {
   "cell_type": "markdown",
   "id": "f697ab0c-ebfb-4545-8481-2f38160a03ba",
   "metadata": {},
   "source": [
    "<aside>\n",
    "💡 **Q1.** Given an array of integers nums and an integer target, return indices of the two numbers such that they add up to target.\n",
    "\n",
    "You may assume that each input would have exactly one solution, and you may not use the same element twice.\n",
    "\n",
    "You can return the answer in any order.\n",
    "\n",
    "**Example:**\n",
    "Input: nums = [2,7,11,15], target = 9\n",
    "Output0 [0,1]\n",
    "\n",
    "**Explanation:** Because nums[0] + nums[1] == 9, we return [0, 1][\n",
    "\n",
    "</aside>"
   ]
  },
  {
   "cell_type": "code",
   "execution_count": 22,
   "id": "a72ad551-e3d9-4e4f-8a49-e6ca5a97eb97",
   "metadata": {},
   "outputs": [
    {
     "name": "stdout",
     "output_type": "stream",
     "text": [
      "index1=0, index2=2\n"
     ]
    }
   ],
   "source": [
    "# Brute Force approach\n",
    "class Solution(object):\n",
    "\n",
    "    def __init__(self, nums, target):\n",
    "        self.nums = nums\n",
    "        self.target = target\n",
    "\n",
    "    def twoSum(self):\n",
    "        for i in range(len(self.nums)):\n",
    "            for j in range(i+1, len(self.nums)):\n",
    "                if self.nums[i] + self.nums[j] == self.target:\n",
    "                    print( \"index1=\" + str(i) + \", index2=\" + str(j))\n",
    "\n",
    "sample = Solution([2, 8, 7, 15], 9)\n",
    "sample.twoSum()"
   ]
  },
  {
   "cell_type": "markdown",
   "id": "5c4190b7-6af5-45c9-b59a-09f9c93a1b78",
   "metadata": {},
   "source": [
    "Here time complexity is O(N^2)\n",
    "so, we have to optimize it"
   ]
  },
  {
   "cell_type": "code",
   "execution_count": 28,
   "id": "3d273da6-f521-416d-872f-4645c7cedf07",
   "metadata": {},
   "outputs": [],
   "source": [
    "# using sorting\n",
    "class Solution:\n",
    "    def twoSum(self, nums, target):\n",
    "        nums = sorted(nums)\n",
    "        for i in range(len(nums)):\n",
    "            to_find = target - nums[i]\n",
    "            left, ryt = 0, len(nums)-1\n",
    "            while left<ryt:\n",
    "                mid = (left+ryt)//2\n",
    "                if mid != i and nums[mid] == to_find:\n",
    "                    return [i, mid]\n",
    "                elif nums[mid]>to_find:\n",
    "                    ryt = mid-1\n",
    "                else:\n",
    "                    left = mid+1\n",
    "        return [-1, -1]"
   ]
  },
  {
   "cell_type": "markdown",
   "id": "f39243d8-3759-48e2-bba2-ff82b2e05abb",
   "metadata": {},
   "source": [
    "Time complexity is O(NlogN)"
   ]
  },
  {
   "cell_type": "code",
   "execution_count": 29,
   "id": "de9a3c89-c629-409e-b0b1-65c7c1b34095",
   "metadata": {},
   "outputs": [],
   "source": [
    "class Solution:\n",
    "    def twoSum(self, nums, target):\n",
    "        num_to_idx = {}\n",
    "\n",
    "        for i, num in enumerate(nums):\n",
    "            if target-num in num_to_idx:\n",
    "                return [i, num_to_idx[target-num]]\n",
    "            num_to_idx[num] = i\n",
    "        return [-1, -1]"
   ]
  },
  {
   "cell_type": "markdown",
   "id": "a0cea6fa-2a75-46c2-a0c8-abbc6c92d5c7",
   "metadata": {},
   "source": [
    "Time complexity is O(N)"
   ]
  },
  {
   "cell_type": "markdown",
   "id": "a64874ec-628f-408b-b862-df298a1a492f",
   "metadata": {},
   "source": [
    "<aside>\n",
    "💡 Q2.Given an integer array nums and an integer val, remove all occurrences of val in nums in-place. The order of the elements may be changed. Then return the number of elements in nums which are not equal to val.\n",
    "\n",
    "Consider the number of elements in nums which are not equal to val be k, to get accepted, you need to do the following things:\n",
    "\n",
    "- Change the array nums such that the first k elements of nums contain the elements which are not equal to val. The remaining elements of nums are not important as well as the size of nums.\n",
    "- Return k.\n",
    "\n",
    "**Example :**\n",
    "Input: nums = [3,2,2,3], val = 3\n",
    "Output: 2, nums = [2,2,_,_]\n",
    "\n",
    "**Explanation:** Your function should return k = 2, with the first two elements of nums being 2. It does not matter what you leave beyond the returned k (hence they are underscores)[\n",
    "\n",
    "</aside>"
   ]
  },
  {
   "cell_type": "code",
   "execution_count": 1,
   "id": "3468b671-aecc-4a6e-983d-0bc373cb5546",
   "metadata": {},
   "outputs": [],
   "source": [
    "def removeElement(self, nums, val):\n",
    "    count = 0;\n",
    "    for i in nums:\n",
    "        if nums[i] == val:\n",
    "            temp = nums[count]\n",
    "            nums[count] = nums[i]\n",
    "            nums[i] = temp\n",
    "\n",
    "            count=count+1\n",
    "    nums = nums[count:]\n",
    "    return len(nums)"
   ]
  },
  {
   "cell_type": "markdown",
   "id": "a4b07407-d3f2-4f27-a9f9-0ffbcdff984d",
   "metadata": {},
   "source": [
    "T(n)=O(n)\n",
    "\n",
    "s=O(1)"
   ]
  },
  {
   "cell_type": "markdown",
   "id": "1fa16713-4fc3-456d-bf8c-fc60b9d0f962",
   "metadata": {},
   "source": [
    "<aside>\n",
    "💡 3. Given a sorted array of distinct integers and a target value, return the index if the target is found. If not, return the index where it would be if it were inserted in order.\n",
    "\n",
    "You must write an algorithm with O(log n) runtime complexity.\n",
    "\n",
    "**Example 1:**\n",
    "Input: nums = [1,3,5,6], target = 5\n",
    "\n",
    "Output: 2\n",
    "\n",
    "</aside>"
   ]
  },
  {
   "cell_type": "code",
   "execution_count": 12,
   "id": "67d5543f-712e-4397-9f61-b81b9d685082",
   "metadata": {},
   "outputs": [],
   "source": [
    "def searchInsert(self, nums, target):\n",
    "   # Lower and upper bounds\n",
    "   start = 0\n",
    "   end = len(nums) - 1\n",
    " \n",
    "   # Traverse the search space\n",
    "   while start <= end:\n",
    " \n",
    "      mid =(start + end)//2\n",
    " \n",
    "      if nums[mid] == target:\n",
    "         return mid\n",
    "      elif nums[mid] < target:\n",
    "         start = mid + 1\n",
    "      else:\n",
    "         end = mid-1\n",
    " \n",
    "   # Return the insert position\n",
    "   return end + 1"
   ]
  },
  {
   "cell_type": "markdown",
   "id": "0a457ca4-7551-4516-bf15-43d7a51d7f30",
   "metadata": {},
   "source": [
    "Time Complexity\n",
    "O(log n)\n",
    "\n",
    "Space Complexity\n",
    "O(1)"
   ]
  },
  {
   "cell_type": "markdown",
   "id": "35d4115a-053a-4f43-bed3-b82607a7b1ea",
   "metadata": {},
   "source": [
    "<aside>\n",
    "💡 **Q4. You are given a large integer represented as an integer array digits, where each digits[i] is the ith digit of the integer. The digits are ordered from most significant to least significant in left-to-right order. The large integer does not contain any leading 0's.\n",
    "\n",
    "Increment the large integer by one and return the resulting array of digits.\n",
    "\n",
    "**Example 1:**\n",
    "Input: digits = [1,2,3]\n",
    "Output: [1,2,4]\n",
    "\n",
    "**Explanation:** The array represents the integer 123.\n",
    "\n",
    "Incrementing by one gives 123 + 1 = 124.\n",
    "Thus, the result should be [1,2,4].\n",
    "\n",
    "</aside>"
   ]
  },
  {
   "cell_type": "code",
   "execution_count": 5,
   "id": "94680c1d-b9b2-4688-889f-2e3863638ad6",
   "metadata": {},
   "outputs": [],
   "source": [
    "class Solution(object):\n",
    "    def plusOne(self, digits):\n",
    "        string =\"\"\n",
    "        result =[]\n",
    "        for d in digits:\n",
    "            string += str(d)\n",
    "        i = int(string) + 1\n",
    "        for w in str(i):\n",
    "            result.append(w)\n",
    "        return result"
   ]
  },
  {
   "cell_type": "code",
   "execution_count": 8,
   "id": "2f657396-56a5-45c5-b893-acfc676fc3e6",
   "metadata": {},
   "outputs": [],
   "source": [
    "s1=Solution()"
   ]
  },
  {
   "cell_type": "code",
   "execution_count": 11,
   "id": "607deebf-caa8-43e4-9d0b-1b2a96d72b46",
   "metadata": {},
   "outputs": [
    {
     "data": {
      "text/plain": [
       "['1', '2', '4']"
      ]
     },
     "execution_count": 11,
     "metadata": {},
     "output_type": "execute_result"
    }
   ],
   "source": [
    "s1.plusOne([1,2,3])"
   ]
  },
  {
   "cell_type": "markdown",
   "id": "a77d11b6-f48f-4997-903b-c55b0bfd6563",
   "metadata": {},
   "source": [
    "T(N)=O(N)"
   ]
  },
  {
   "cell_type": "markdown",
   "id": "c9797ba2-3982-43e2-b69c-58a8a0e079dd",
   "metadata": {},
   "source": [
    "<aside>\n",
    "💡 **Q5. You are given two integer arrays nums1 and nums2, sorted in non-decreasing order, and two integers m and n, representing the number of elements in nums1 and nums2 respectively.\n",
    "\n",
    "Merge nums1 and nums2 into a single array sorted in non-decreasing order.\n",
    "\n",
    "The final sorted array should not be returned by the function, but instead be stored inside the array nums1. To accommodate this, nums1 has a length of m + n, where the first m elements denote the elements that should be merged, and the last n elements are set to 0 and should be ignored. nums2 has a length of n.\n",
    "\n",
    "**Example 1:**\n",
    "Input: nums1 = [1,2,3,0,0,0], m = 3, nums2 = [2,5,6], n = 3\n",
    "Output: [1,2,2,3,5,6]\n",
    "\n",
    "**Explanation:** The arrays we are merging are [1,2,3] and [2,5,6].\n",
    "The result of the merge is [1,2,2,3,5,6] with the underlined elements coming from nums1.\n",
    "\n",
    "</aside>"
   ]
  },
  {
   "cell_type": "code",
   "execution_count": 16,
   "id": "67eccf75-cc81-4429-9cb3-3eddbf3a0729",
   "metadata": {},
   "outputs": [],
   "source": [
    "def merge(nums1, m, nums2, n):\n",
    "    # Let m and n refer to the last used index in given lists\n",
    "    m -= 1\n",
    "    n -= 1\n",
    "    for i in range(m + n + 1, -1, -1):\n",
    "        if n < 0 or m >= 0 and nums1[m] > nums2[n]:\n",
    "            nums1[i] = nums1[m]\n",
    "            m -= 1\n",
    "        else:\n",
    "            nums1[i] = nums2[n]\n",
    "            n -= 1\n",
    " "
   ]
  },
  {
   "cell_type": "code",
   "execution_count": 18,
   "id": "c4f70685-ac32-412a-a32a-1bb59e6bfa53",
   "metadata": {},
   "outputs": [
    {
     "data": {
      "text/plain": [
       "[1, 2, 2, 3, 5, 6]"
      ]
     },
     "execution_count": 18,
     "metadata": {},
     "output_type": "execute_result"
    }
   ],
   "source": [
    ">>> nums1 = [1, 2, 3, 0, 0, 0]\n",
    ">>> nums2 = [2, 5, 6]\n",
    ">>> m = 3\n",
    ">>> n = 3\n",
    ">>> merge(nums1, m, nums2, n)\n",
    ">>> nums1"
   ]
  },
  {
   "cell_type": "markdown",
   "id": "e75689ce-64cf-4c80-8543-aa7ba740a064",
   "metadata": {},
   "source": [
    "Approach:\n",
    "Solution 01\n",
    "\n",
    "We took j=0 to iterate nums2 from the beginning.\n",
    "As we know nums1 has a size of m+n & only the first m elements should be in the final array.\n",
    "So we replace all the elements from the m index with all the elements of nums2.\n",
    "Finally, we’ll sort the array nums1 to get the final sorted array.\n",
    "Time complexity: O(nlogn) //as sorting takes nlogn time.\n",
    "\n",
    "Solution 02\n",
    "\n",
    "Same logic as Solution 01, But here we used resize().\n",
    "Resize() will simply keep the elements till m index in muns1 array.\n",
    "Then we’ll insert all the elements of the nums2 array by using insert().\n",
    "Lastly, we’ll sort the array nums1 to get the final sorted array.\n",
    "Time complexity: O(nlogn) //as sorting takes nlogn time.\n",
    "\n",
    "Solution 03\n",
    "\n",
    "As both solutions 01 & 02 take O(nlogn), now we try to solve it with O(n+m).\n",
    "We will use the reverse sorting method.\n",
    "We took 3 variables: i (last valid element of nums1 that will present in the final array), j (last element of nums2) & k ( last index of nums1)\n",
    "First, while loop will compare nums1 & nums2, and the greater element will be in nums1[k].\n",
    "After the loop end if there are still any elements left in an array they will be added by the next 2 while loop.\n",
    "Time complexity: O(m+n)."
   ]
  },
  {
   "cell_type": "markdown",
   "id": "c51f9c38-6bfd-499d-9e07-73eba5713716",
   "metadata": {},
   "source": [
    "<aside>\n",
    "💡 **Q6. Given an integer array nums, return true if any value appears at least twice in the array, and return false if every element is distinct.\n",
    "\n",
    "**Example 1:**\n",
    "Input: nums = [1,2,3,1]\n",
    "\n",
    "Output: true\n",
    "\n",
    "</aside>"
   ]
  },
  {
   "cell_type": "markdown",
   "id": "294570e0-e3ad-4127-bd66-1a54a60ba4cd",
   "metadata": {},
   "source": [
    "Solution —\n",
    "\n",
    "Hashmap — O(n):\n",
    "\n",
    "    Firstly, declare the hashmap variable as a dictionary (hashmap in python), then start looping through the array. Then for every element in the array check if that value is already a key in the hashmap, and if it is, return true. If it is false, then add that new key and value to the hashmap. If there is no value returned by the end of the loop, return false because there must not be a value that appears twice in the array."
   ]
  },
  {
   "cell_type": "code",
   "execution_count": null,
   "id": "b32929e4-7d42-448e-bbca-335239db5bdb",
   "metadata": {},
   "outputs": [],
   "source": [
    "class Solution:\n",
    " def containsDuplicate(self, nums: List[int]) -> bool:\n",
    "   hashmap = dict()\n",
    " \n",
    "   for i in range(len(nums)):\n",
    "   if nums[i] in hashmap.keys():\n",
    "     return True\n",
    "   else:\n",
    "     hashmap[nums[i]] = i\n",
    " \n",
    "   return False"
   ]
  },
  {
   "cell_type": "markdown",
   "id": "07bc0fde-1f26-4b8a-ada5-e4975542a9d2",
   "metadata": {},
   "source": [
    "<aside>\n",
    "💡 **Q7.** Given an integer array nums, move all 0's to the end of it while maintaining the relative order of the nonzero elements.\n",
    "\n",
    "Note that you must do this in-place without making a copy of the array.\n",
    "\n",
    "**Example 1:**\n",
    "Input: nums = [0,1,0,3,12]\n",
    "Output: [1,3,12,0,0]\n",
    "\n",
    "</aside>"
   ]
  },
  {
   "cell_type": "code",
   "execution_count": 28,
   "id": "28e2a7e4-14f7-4fee-8916-622b8fc5a54d",
   "metadata": {},
   "outputs": [
    {
     "name": "stdout",
     "output_type": "stream",
     "text": [
      "[1, 3, 12, 0, 0]\n"
     ]
    }
   ],
   "source": [
    "nums = [0, 1, 0, 3, 12]\n",
    "done = False\n",
    "\n",
    "while not done:\n",
    "    done = True\n",
    "    for i in range(len(nums) - 1):\n",
    "        if nums[i] == 0 and nums[i + 1] != 0:\n",
    "            nums[i] = nums[i + 1]\n",
    "            nums[i + 1] = 0\n",
    "            done = False\n",
    "\n",
    "print(nums)"
   ]
  },
  {
   "cell_type": "markdown",
   "id": "3026c6f4-6dd3-4351-9565-dffe6458d5b5",
   "metadata": {},
   "source": [
    "T(n)=O(n)"
   ]
  },
  {
   "cell_type": "markdown",
   "id": "93a675ae-c1ed-4402-8b2c-f825300383bb",
   "metadata": {},
   "source": [
    "In your solution, remove removes only the first occurrence or a zero. To make it work you need to remove until there are no zeros remaining and then append the final number of zeroes at the end."
   ]
  },
  {
   "cell_type": "markdown",
   "id": "15e4739e-a938-41e4-b7dc-87f45f9335e3",
   "metadata": {},
   "source": [
    "<aside>\n",
    "💡 **Q8.** You have a set of integers s, which originally contains all the numbers from 1 to n. Unfortunately, due to some error, one of the numbers in s got duplicated to another number in the set, which results in repetition of one number and loss of another number.\n",
    "\n",
    "You are given an integer array nums representing the data status of this set after the error.\n",
    "\n",
    "Find the number that occurs twice and the number that is missing and return them in the form of an array.\n",
    "\n",
    "**Example 1:**\n",
    "Input: nums = [1,2,2,4]\n",
    "Output: [2,3]\n",
    "\n",
    "</aside>"
   ]
  },
  {
   "cell_type": "code",
   "execution_count": 41,
   "id": "8fe740a5-e56c-4341-ba43-ac6da42a5c5d",
   "metadata": {},
   "outputs": [
    {
     "name": "stdout",
     "output_type": "stream",
     "text": [
      "[2, 3]\n"
     ]
    }
   ],
   "source": [
    "from collections import Counter\n",
    "\n",
    "mylist = sorted([1, 2, 2, 4])\n",
    "myset = {x for x in range(1, mylist[-1] + 1)}\n",
    "\n",
    "counts = Counter(mylist)  # a dictionary of counts in mylist\n",
    "dup = [x for (x, y) in counts.items() if y == 2]\n",
    "miss = list(myset - set(mylist))\n",
    "\n",
    "print(dup + miss)"
   ]
  },
  {
   "cell_type": "code",
   "execution_count": null,
   "id": "4cc86497-0336-4c75-a349-660a486f25af",
   "metadata": {},
   "outputs": [],
   "source": []
  }
 ],
 "metadata": {
  "kernelspec": {
   "display_name": "Python 3 (ipykernel)",
   "language": "python",
   "name": "python3"
  },
  "language_info": {
   "codemirror_mode": {
    "name": "ipython",
    "version": 3
   },
   "file_extension": ".py",
   "mimetype": "text/x-python",
   "name": "python",
   "nbconvert_exporter": "python",
   "pygments_lexer": "ipython3",
   "version": "3.10.8"
  }
 },
 "nbformat": 4,
 "nbformat_minor": 5
}
